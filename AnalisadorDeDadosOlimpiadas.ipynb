{
 "cells": [
  {
   "cell_type": "markdown",
   "id": "71dd2ff9",
   "metadata": {},
   "source": [
    "# Dados históricos das Olimpíadas (1896-2016)"
   ]
  },
  {
   "cell_type": "markdown",
   "id": "2124a74b",
   "metadata": {},
   "source": [
    "Jogos Olímpicos são um evento multiesportivo global com modalidades de verão e de inverno, em que milhares de atletas participam de várias competições. Atualmente os Jogos são realizados a cada dois anos, em anos pares, com os Jogos Olímpicos de Verão e de Inverno se alternando, embora ocorram a cada quatro anos no âmbito dos respectivos Jogos sazonais. Originalmente, os Jogos Olímpicos da Antiguidade foram realizados em Olímpia, na Grécia, do século VIII a.C. ao século V d.C.. No século XIX, o Barão Pierre de Coubertin fundou o Comitê Olímpico Internacional (COI) em 1894. O COI se tornou o órgão dirigente do Movimento Olímpico, cuja estrutura e as ações são definidas pela Carta Olímpica."
   ]
  },
  {
   "cell_type": "markdown",
   "id": "74019df9",
   "metadata": {},
   "source": [
    "Os Jogos Olímpicos antigos foram uma série de competições realizadas entre representantes de várias cidades-estado da Grécia antiga, que caracterizou principalmente eventos atléticos, mas também de combate e corridas de bigas. A origem destes Jogos Olímpicos é envolta em mistério e lendas. Um dos mitos mais populares identifica Hércules e Zeus, seu pai, como os progenitores dos Jogos."
   ]
  },
  {
   "cell_type": "code",
   "execution_count": null,
   "id": "949d40a7",
   "metadata": {},
   "outputs": [],
   "source": [
    "!pip install basedosdados"
   ]
  },
  {
   "cell_type": "code",
   "execution_count": null,
   "id": "59c1b3f0",
   "metadata": {},
   "outputs": [],
   "source": [
    "import basedosdados as bd\n",
    "\n",
    "# Para carregar o dado direto no pandas\n",
    "df = bd.read_table(dataset_id='mundo_kaggle_olimpiadas',\n",
    "table_id='microdados',\n",
    "billing_project_id=\"api-365415\")"
   ]
  },
  {
   "cell_type": "markdown",
   "id": "7e72afa0",
   "metadata": {},
   "source": [
    "A tabela a ser apresentada consiste nos dados dos atletas registrados nas edições das olimpíadas desde 1896 até 2016. \n",
    "Nas linhas são descritas informações de cada atleta, sendo elas: delegação, equipe, id, nome, sexo, idade, altura, peso, esporte, evento e medalha. Também são descritas informações da edição da olímpiada em que o atleta participou, sendo elas: ano, edição, cidade sede e país."
   ]
  },
  {
   "cell_type": "markdown",
   "id": "f8fee47f",
   "metadata": {},
   "source": [
    "Essa é uma amostra da tabela completa:"
   ]
  },
  {
   "cell_type": "code",
   "execution_count": null,
   "id": "8c6dcc27",
   "metadata": {},
   "outputs": [],
   "source": [
    "df"
   ]
  },
  {
   "cell_type": "markdown",
   "id": "e3bf6712",
   "metadata": {},
   "source": [
    "Essas são os tipos de variáveis das colunas:"
   ]
  },
  {
   "cell_type": "code",
   "execution_count": null,
   "id": "acea897b",
   "metadata": {},
   "outputs": [],
   "source": [
    "df.dtypes"
   ]
  },
  {
   "cell_type": "markdown",
   "id": "4f61af83",
   "metadata": {},
   "source": [
    "Essa é a quantidade de atletas inscritos em todas as olimpíadas:"
   ]
  },
  {
   "cell_type": "code",
   "execution_count": null,
   "id": "29911ccd",
   "metadata": {},
   "outputs": [],
   "source": [
    "df['nome_atleta'].count()"
   ]
  },
  {
   "cell_type": "markdown",
   "id": "aeb8ab9c",
   "metadata": {},
   "source": [
    "Aqui é possível buscar o dado que o usuário desejar, também é possível apurar a busca caso preferir:"
   ]
  },
  {
   "cell_type": "code",
   "execution_count": null,
   "id": "741b49e2",
   "metadata": {},
   "outputs": [],
   "source": [
    "import pandas as pd\n",
    " \n",
    "resposta = input('Deseja fazer uma busca? (s/n): ')\n",
    "while resposta == 's' or resposta == 'S':\n",
    "    col = input('Qual é o nome da coluna que você deseja explorar? ')\n",
    "    col = col.lower()\n",
    "    busca = input('Digite o nome/valor que você quer procurar: ')\n",
    "    \n",
    "    df[f'{col}'] = df[f'{col}'].map(str)\n",
    "    if col == 'delegacao':\n",
    "        df_resultado = df[df[f'{col}'].str.contains(busca.upper(), na = False)]\n",
    "    else:\n",
    "        df_resultado = df[df[f'{col}'].str.contains(busca.title(), na = False)]\n",
    "    \n",
    "    display(df_resultado)\n",
    "    \n",
    "    continuacao = input('Deseja apurar sua busca? (s/n) ')\n",
    "    while continuacao == 's' or continuacao == 'S':\n",
    "        col = input('Qual é o nome da coluna que você deseja explorar? ')\n",
    "        col = col.lower()\n",
    "        busca = input('Digite o nome/valor que você quer procurar: ')\n",
    "        df_resultado[f'{col}'] = df_resultado[f'{col}'].map(str)\n",
    "        if col == 'delegacao':\n",
    "            df_resultado = df_resultado[df_resultado[f'{col}'].str.contains(busca.upper(), na = False)]\n",
    "        else:\n",
    "            df_resultado = df_resultado[df_resultado[f'{col}'].str.contains(busca.title(), na = False)]\n",
    "        display(df_resultado)\n",
    "        continuacao = input('Deseja apurar sua busca? (s/n) ')\n",
    "    \n",
    "    baixar = input('Deseja baixar o resultado no formato XLSX? (s/n): ')\n",
    "    if baixar == 's' or baixar == 'S':\n",
    "        nomeArquivo = input('Digite o nome que quer dar ao arquivo: ')\n",
    "        df_resultado.to_excel(f'{nomeArquivo}.xlsx')\n",
    "    resposta = input('Deseja continuar buscando? (s/n): ')\n",
    "    \n",
    "print('Fim do programa.')"
   ]
  }
 ],
 "metadata": {
  "kernelspec": {
   "display_name": "Python 3",
   "language": "python",
   "name": "python3"
  },
  "language_info": {
   "codemirror_mode": {
    "name": "ipython",
    "version": 3
   },
   "file_extension": ".py",
   "mimetype": "text/x-python",
   "name": "python",
   "nbconvert_exporter": "python",
   "pygments_lexer": "ipython3",
   "version": "3.9.13"
  }
 },
 "nbformat": 4,
 "nbformat_minor": 5
}
